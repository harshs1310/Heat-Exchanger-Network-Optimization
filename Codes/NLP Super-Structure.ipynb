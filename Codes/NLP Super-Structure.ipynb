{
 "cells": [
  {
   "cell_type": "markdown",
   "id": "8e688262",
   "metadata": {},
   "source": [
    "# NLP formulation Above Pinch Point"
   ]
  },
  {
   "cell_type": "code",
   "execution_count": null,
   "id": "2b16ba3e",
   "metadata": {},
   "outputs": [],
   "source": [
    "from pyomo.environ import *\n",
    "from pyomo.opt import SolverFactory"
   ]
  },
  {
   "cell_type": "code",
   "execution_count": null,
   "id": "02d4d682",
   "metadata": {},
   "outputs": [],
   "source": [
    "m = ConcreteModel()"
   ]
  },
  {
   "attachments": {
    "image.png": {
     "image/png": "[encoded data removed]"
    }
   },
   "cell_type": "markdown",
   "id": "e8e3fa3b",
   "metadata": {},
   "source": [
    "![image.png](attachment:image.png)"
   ]
  },
  {
   "cell_type": "code",
   "execution_count": null,
   "id": "bb238995",
   "metadata": {},
   "outputs": [],
   "source": [
    "# Define variable names and domains\n",
    "A_vars = ['A1', 'A2', 'A3', 'A4', 'A5', 'A6', 'A7']\n",
    "F_vars = [f'F{i}' for i in range(1, 54) if i not in [9, 10]]  \n",
    "Q_vars = ['Q11', 'Q21', 'QF1', 'QHP1', 'QLP1', 'Q22', 'Q32']\n",
    "T_vars = ['T3', 'T4', 'T5', 'T6', 'T21', 'T22', 'T23', 'T24', 'T25', 'T48', 'T49', 'T50', 'T51', 'T16', 'T17', 'T18', 'T19', 'T20']"
   ]
  },
  {
   "cell_type": "code",
   "execution_count": null,
   "id": "9b0bf715",
   "metadata": {},
   "outputs": [],
   "source": [
    "# Create variables\n",
    "for var in A_vars + F_vars + Q_vars + T_vars:\n",
    "    m.add_component(var, Var(domain=NonNegativeReals))"
   ]
  },
  {
   "cell_type": "code",
   "execution_count": null,
   "id": "66da1ac6",
   "metadata": {},
   "outputs": [],
   "source": [
    "# Define Constraints\n",
    "m.con1 = Constraint(expr = m.F1 + (m.F2)== 40) \n",
    "m.con2 = Constraint(expr = m.F11 + (m.F12) + m.F13 + m.F14 + m.F15 == 50)\n",
    "m.con3 = Constraint(expr = m.F46 + (m.F47)== 180)\n",
    "m.con4 = Constraint(expr = m.F1 + (m.F8)== m.F3)\n",
    "m.con5 = Constraint(expr = m.F7 + (m.F2)== m.F4)\n",
    "m.con6 = Constraint(expr = m.F11 + m.F30 + m.F34 + m.F38 + m.F42 == m.F16)\n",
    "m.con7 = Constraint(expr = m.F12 + m.F26 + m.F35 + m.F39 + m.F43 == m.F17)\n",
    "m.con8 = Constraint(expr = m.F13 + m.F27 + m.F31 + m.F40 + m.F44 == m.F18)\n",
    "m.con9 = Constraint(expr = m.F14 + m.F28 + m.F32 + m.F36 + m.F45 == m.F19)\n",
    "m.con10 = Constraint(expr = m.F15 + m.F29 + m.F33 + m.F37 + m.F41 == m.F20)\n",
    "m.con11 = Constraint(expr = m.F46 + (m.F52)== m.F48)\n",
    "m.con12 = Constraint(expr = m.F47 + (m.F53)== m.F49)\n",
    "m.con13 = Constraint(expr = 600*m.F1 + m.F8*m.T6 == m.F3*m.T3)\n",
    "m.con14 = Constraint(expr = 600*m.F2 + m.F7*m.T5 == m.F4*m.T4)\n",
    "m.con15 = Constraint(expr = 350*m.F11 + m.F30*m.T22 + m.F34*m.T23 + m.F38*m.T24 + m.F42*m.T25 == m.F16*m.T16)\n",
    "m.con16 = Constraint(expr = 350*m.F12 + m.F26*m.T21 + m.F35*m.T23 + m.F39*m.T24 + m.F43*m.T25 == m.F17*m.T17)\n",
    "m.con17 = Constraint(expr = 350*m.F13 + m.F27*m.T21 + m.F31*m.T22 + m.F40*m.T24 + m.F44*m.T25 == m.F18*m.T18)\n",
    "m.con18 = Constraint(expr = 350*m.F14 + m.F28*m.T21 + m.F32*m.T22 + m.F36*m.T23 + m.F45*m.T25 == m.F19*m.T19)\n",
    "m.con19 = Constraint(expr = 350*m.F15 + m.F29*m.T21 + m.F33*m.T22 + m.F37*m.T23 + m.F41*m.T24 == m.F20*m.T20)\n",
    "m.con20 = Constraint(expr = 340*m.F46 + m.F52*m.T51 == m.F48*m.T48)\n",
    "m.con21 = Constraint(expr = 340*m.F47 + m.F53*m.T50 == m.F49*m.T49)\n",
    "m.con22 = Constraint(expr = m.F5 + m.F7 == m.F3)\n",
    "m.con23 = Constraint(expr = m.F6 + m.F8 == m.F4)\n",
    "m.con24 = Constraint(expr = m.F21 + m.F26 + m.F27 + m.F28 + m.F29 == m.F16)\n",
    "m.con25 = Constraint(expr = m.F22 + m.F30 + m.F31 + m.F32 + m.F33 == m.F17)\n",
    "m.con26 = Constraint(expr = m.F23 + m.F34 + m.F35 + m.F36 + m.F37 == m.F18)\n",
    "m.con27 = Constraint(expr = m.F24 + m.F38 + m.F39 + m.F40 + m.F41 == m.F19)\n",
    "m.con28 = Constraint(expr = m.F25 + m.F42 + m.F43 + m.F44 + m.F45 == m.F20)\n",
    "m.con29 = Constraint(expr = m.F50 + m.F53 == m.F48)\n",
    "m.con30 = Constraint(expr = m.F51 + m.F52 == m.F49)\n",
    "m.con31 = Constraint(expr = m.Q11 == 20*(700-420))\n",
    "m.con32 = Constraint(expr = m.Q32 == 70*(460-360))\n",
    "m.con33 = Constraint(expr = m.QF1 == 5.38*(750-360))\n",
    "m.con34 = Constraint(expr = m.QHP1 == 6.67*(510-360))\n",
    "m.con35 = Constraint(expr = m.QLP1 == 10*(410-360))\n",
    "m.con36 = Constraint(expr = m.F3*(m.T3-m.T5) == m.Q21)\n",
    "m.con37 = Constraint(expr = m.F4*(m.T4-m.T6) == m.Q22)\n",
    "m.con38 = Constraint(expr = -m.F16*(m.T16-m.T21) == m.Q11)\n",
    "m.con39 = Constraint(expr = -m.F17*(m.T17-m.T22) == m.Q21)\n",
    "m.con40 = Constraint(expr = -m.F18*(m.T18-m.T23) == m.QF1)\n",
    "m.con41 = Constraint(expr = -m.F19*(m.T19-m.T24) == m.QHP1)\n",
    "m.con42 = Constraint(expr = -m.F20*(m.T20-m.T25) == m.QLP1)\n",
    "m.con43 = Constraint(expr = -m.F48*(m.T48-m.T50) == m.Q22)\n",
    "m.con44 = Constraint(expr = -m.F49*(m.T49-m.T51) == m.Q32)\n",
    "m.con45 = Constraint(expr = m.F5 + m.F6 == 40)\n",
    "m.con46 = Constraint(expr = m.F21 + m.F22 + m.F23 + m.F24 + m.F25 == 50)\n",
    "m.con47 = Constraint(expr = m.F50 + m.F51 == 180)\n",
    "m.con48 = Constraint(expr = m.F5*m.T5 + m.F6*m.T6 == 14400)\n",
    "m.con49 = Constraint(expr = m.F21*m.T21 + m.F22*m.T22 + m.F23*m.T23 + m.F24*m.T24 + m.F25*m.T25 == 32500 )\n",
    "m.con50 = Constraint(expr = m.F50*m.T50 + m.F51*m.T51 == 72000)\n",
    "m.con51 = Constraint(expr = m.A1*(((700-m.T21)*(420-m.T16)*(((700-m.T21)+(420-m.T16))/2))**(1/3)) == m.Q11)\n",
    "m.con52 = Constraint(expr = m.A2*(((m.T3-m.T22)*(m.T5-m.T17)*(((m.T3-m.T22)+(m.T5-m.T17))/2))**(1/3)) == m.Q21)\n",
    "m.con53 = Constraint(expr = m.A3*(((750-m.T23)*(360-m.T18)*(((750-m.T23)+(360-m.T18))/2))**(1/3)) == m.QF1)\n",
    "m.con54 = Constraint(expr = m.A4*(((510-m.T24)*(360-m.T19)*(((510-m.T24)+(360-m.T19))/2))**(1/3)) == m.QHP1)\n",
    "m.con55 = Constraint(expr = m.A5*(((410-m.T25)*(360-m.T20)*(((410-m.T25)+(360-m.T20))/2))**(1/3)) == m.QLP1)\n",
    "m.con56 = Constraint(expr = m.A6*(((m.T4-m.T50)*(m.T6-m.T48)*(((m.T4-m.T50)+(m.T6-m.T48))/2))**(1/3)) == m.Q22)\n",
    "m.con57 = Constraint(expr = m.A7*(((460-m.T51)*(360-m.T49)*(((460-m.T51)+(360-m.T49))/2))**(1/3)) == m.Q32)\n",
    "m.con58 = Constraint(expr = 700 - m.T21 >= 20)\n",
    "m.con59 = Constraint(expr = 750 - m.T23 >= 20)\n",
    "m.con60 = Constraint(expr = 510 - m.T24 >= 20)\n",
    "m.con61 = Constraint(expr = 410 - m.T25 >= 20)\n",
    "m.con62 = Constraint(expr = 460 - m.T51 >= 20)\n",
    "m.con63 = Constraint(expr = 420 - m.T16 >= 20)\n",
    "m.con64 = Constraint(expr = 360 - m.T18 >= 20)\n",
    "m.con65 = Constraint(expr = 360 - m.T19 >= 20)\n",
    "m.con66 = Constraint(expr = 360 - m.T20 >= 20)\n",
    "m.con67 = Constraint(expr = 360 - m.T49 >= 20)\n",
    "m.con68 = Constraint(expr = m.T3 - m.T22 >=20)\n",
    "m.con69 = Constraint(expr = m.T5 - m.T17 >=20)\n",
    "m.con70 = Constraint(expr = m.T4 - m.T50 >=20)\n",
    "m.con71 = Constraint(expr = m.T6 - m.T48 >=20)\n",
    "m.con72 = Constraint(expr = m.T3 <= 600)\n",
    "m.con73 = Constraint(expr = m.T5 - 600 <= - (m.Q21/40))\n",
    "m.con74 = Constraint(expr = m.T4 <= 600)\n",
    "m.con75 = Constraint(expr = m.T6 - 600 <= - (m.Q22/40))\n",
    "m.con76 = Constraint(expr = m.T16 >= 350)\n",
    "m.con77 = Constraint(expr = m.T17 >= 350)\n",
    "m.con78 = Constraint(expr = m.T18 >= 350)\n",
    "m.con79 = Constraint(expr = m.T19 >= 350)\n",
    "m.con80 = Constraint(expr = m.T20 >= 350)\n",
    "m.con81 = Constraint(expr = m.T21 - 350 >= (m.Q11/50))\n",
    "m.con82 = Constraint(expr = m.T22 - 350 >= (m.Q21/50))\n",
    "m.con83 = Constraint(expr = m.T23 - 350 >= (m.QF1/50))\n",
    "m.con84 = Constraint(expr = m.T24 - 350 >= (m.QHP1/50))\n",
    "m.con85 = Constraint(expr = m.T25 - 350 >= (m.QLP1/50))\n",
    "m.con86 = Constraint(expr = m.T48 >= 340)\n",
    "m.con87 = Constraint(expr = m.T49 >= 340)\n",
    "m.con88 = Constraint(expr = m.T50 - 340 >= (m.Q22/180))\n",
    "m.con89 = Constraint(expr = m.T51 - 340 >= (m.Q32/180))"
   ]
  },
  {
   "cell_type": "code",
   "execution_count": null,
   "id": "26a5334f",
   "metadata": {},
   "outputs": [],
   "source": [
    "# Define objective function and solve using IPOPT solver\n",
    "m.obj = Objective(expr = 4000*((m.A1)**0.6)+4000*((m.A2)**0.6)+4000*((m.A3)**0.6)+4000*((m.A4)**0.6)+4000*((m.A5)**0.6)+4000*((m.A6)**0.6)+4000*((m.A7)**0.6), sense=minimize)\n",
    "opt = SolverFactory('ipopt', executable = \"C:\\\\Users\\\\Dell\\\\anaconda3\\\\pkgs\\\\Ipopt-3.11.1-win64-intel13.1\\\\bin\\\\ipopt\")\n",
    "opt.solve(m, tee=True)"
   ]
  },
  {
   "cell_type": "markdown",
   "id": "2374be59",
   "metadata": {},
   "source": [
    "# NLP formulation Below Pinch Point"
   ]
  },
  {
   "attachments": {
    "image.png": {
     "image/png": "[encoded data removed]"
    }
   },
   "cell_type": "markdown",
   "id": "cc54cb0c",
   "metadata": {},
   "source": [
    "![image.png](attachment:image.png)"
   ]
  },
  {
   "cell_type": "code",
   "execution_count": null,
   "id": "2f57525e",
   "metadata": {},
   "outputs": [],
   "source": [
    "# Define variable names\n",
    "A_vars = ['A1', 'A2', 'A3', 'A4', 'A5', 'A6']\n",
    "F_vars = [f'F{i}' for i in range(1, 55)]\n",
    "Q_vars = ['Q22', 'Q32', 'Q42', 'Q2CW', 'Q3CW', 'Q4CW']\n",
    "T_values = [3, 4, 5, 6, 11, 12, 13, 14, 19, 20, 21, 22, 28, 29, 30, 31, 32, 33, 43, 44, 45, 46, 47, 48]\n",
    "T_vars = [f'T{i}' for i in T_values]"
   ]
  },
  {
   "cell_type": "code",
   "execution_count": null,
   "id": "c6a9516b",
   "metadata": {},
   "outputs": [],
   "source": [
    "# Define Constraints\n",
    "m.con1 = Constraint(expr = m.F1 + (m.F2)== 40)\n",
    "m.con2 = Constraint(expr = m.F9 + (m.F10)== 70)\n",
    "m.con3 = Constraint(expr = m.F17 + (m.F18)== 94)\n",
    "m.con4 = Constraint(expr = m.F25 + (m.F26) + m.F27  == 180)\n",
    "m.con5 = Constraint(expr = m.F40 + (m.F41) + m.F42 == 60)\n",
    "m.con6 = Constraint(expr = m.F1 + (m.F8)== m.F3)\n",
    "m.con7 = Constraint(expr = m.F7 + (m.F2)== m.F4)\n",
    "m.con8 = Constraint(expr = m.F9 + (m.F16)== m.F11)\n",
    "m.con9 = Constraint(expr = m.F10 + (m.F15)== m.F12)\n",
    "m.con10 = Constraint(expr = m.F17 + (m.F24)== m.F19)\n",
    "m.con11 = Constraint(expr = m.F18 + (m.F23)== m.F20)\n",
    "m.con12 = Constraint(expr = m.F25 + m.F38 + m.F36 == m.F28)\n",
    "m.con13 = Constraint(expr = m.F26 + m.F34 + m.F39 == m.F29)\n",
    "m.con14 = Constraint(expr = m.F27 + m.F35 + m.F37 == m.F30)\n",
    "m.con15 = Constraint(expr = m.F40 + m.F51 + m.F53 == m.F43)\n",
    "m.con16 = Constraint(expr = m.F41 + m.F49 + m.F54 == m.F44)\n",
    "m.con17 = Constraint(expr = m.F42 + m.F50 + m.F52 == m.F45)\n",
    "m.con18 = Constraint(expr = 360*m.F1 + m.F8*m.T6 == m.F3*m.T3)\n",
    "m.con19 = Constraint(expr = 360*m.F2 + m.F7*m.T5 == m.F4*m.T4)\n",
    "m.con20 = Constraint(expr = 360*m.F9 + m.F16*m.T14 == m.F11*m.T11)\n",
    "m.con21 = Constraint(expr = 360*m.F10 + m.F15*m.T13 == m.F12*m.T12)\n",
    "m.con22 = Constraint(expr = 360*m.F17 + m.F24*m.T22 == m.F19*m.T19)\n",
    "m.con23 = Constraint(expr = 360*m.F18 + m.F23*m.T21 == m.F20*m.T20)\n",
    "m.con24 = Constraint(expr = 300*m.F25 + m.F38*m.T33 + m.F36*m.T32 == m.F28*m.T28)\n",
    "m.con25 = Constraint(expr = 300*m.F26 + m.F34*m.T31 + m.F39*m.T33 == m.F29*m.T29)\n",
    "m.con26 = Constraint(expr = 300*m.F27 + m.F35*m.T31 + m.F37*m.T32 == m.F30*m.T30)\n",
    "m.con27 = Constraint(expr = 290*m.F40 + m.F51*m.T47 + m.F53*m.T48 == m.F43*m.T43)\n",
    "m.con28 = Constraint(expr = 290*m.F41 + m.F49*m.T46 + m.F54*m.T48 == m.F44*m.T44)\n",
    "m.con29 = Constraint(expr = 290*m.F42 + m.F50*m.T46 + m.F52*m.T47 == m.F45*m.T45)\n",
    "m.con30 = Constraint(expr = m.F5 + m.F7 == m.F3)\n",
    "m.con31 = Constraint(expr = m.F6 + m.F8 == m.F4)\n",
    "m.con32 = Constraint(expr = m.F13 + m.F15 == m.F11)\n",
    "m.con33 = Constraint(expr = m.F14 + m.F16 == m.F12)\n",
    "m.con34 = Constraint(expr = m.F21 + m.F23 == m.F19)\n",
    "m.con35 = Constraint(expr = m.F22 + m.F24 == m.F20)\n",
    "m.con36 = Constraint(expr = m.F31 + m.F34 + m.F35 == m.F28)\n",
    "m.con37 = Constraint(expr = m.F32 + m.F36 + m.F37 == m.F29)\n",
    "m.con38 = Constraint(expr = m.F33 + m.F38 + m.F39 == m.F30)\n",
    "m.con39 = Constraint(expr = m.F46 + m.F49 + m.F50 == m.F43)\n",
    "m.con40 = Constraint(expr = m.F47 + m.F51 + m.F52 == m.F44)\n",
    "m.con41 = Constraint(expr = m.F48 + m.F53 + m.F54 == m.F45)\n",
    "m.con42 = Constraint(expr = m.F3*(m.T3-m.T5) == m.Q22)\n",
    "m.con43 = Constraint(expr = m.F4*(m.T4-m.T6) == m.Q2CW)\n",
    "m.con44 = Constraint(expr = m.F11*(m.T11-m.T13) == m.Q32)\n",
    "m.con45 = Constraint(expr = m.F12*(m.T12-m.T14) == m.Q3CW)\n",
    "m.con46 = Constraint(expr = m.F19*(m.T19-m.T21) == m.Q42)\n",
    "m.con47 = Constraint(expr = m.F20*(m.T20-m.T22) == m.Q4CW)\n",
    "m.con48 = Constraint(expr = -m.F28*(m.T28-m.T31) == m.Q22)\n",
    "m.con49 = Constraint(expr = -m.F29*(m.T29-m.T32) == m.Q32)\n",
    "m.con50 = Constraint(expr = -m.F30*(m.T30-m.T33) == m.Q42)\n",
    "m.con51 = Constraint(expr = -m.F43*(m.T43-m.T46) == m.Q2CW)\n",
    "m.con52 = Constraint(expr = -m.F44*(m.T44-m.T47) == m.Q3CW)\n",
    "m.con53 = Constraint(expr = -m.F45*(m.T45-m.T48) == m.Q4CW)\n",
    "m.con54 = Constraint(expr = m.F5 + m.F6 == 40)\n",
    "m.con55 = Constraint(expr = m.F13 + m.F14 == 70)\n",
    "m.con56 = Constraint(expr = m.F21 + m.F22 == 94)\n",
    "m.con57 = Constraint(expr = m.F31 + m.F32 + m.F33 == 180)\n",
    "m.con58 = Constraint(expr = m.F46 + m.F47 + m.F48 == 60)\n",
    "m.con59 = Constraint(expr = m.F5*m.T5 + m.F6*m.T6 == 14400)\n",
    "m.con60 = Constraint(expr = m.F13*m.T13 + m.F14*m.T14 == 25200)\n",
    "m.con61 = Constraint(expr = m.F21*m.T21 + m.F22*m.T22 == 33840)\n",
    "m.con62 = Constraint(expr = m.F31*m.T31 + m.F32*m.T32 + m.F33*m.T33 == 54000 )\n",
    "m.con63 = Constraint(expr = m.F46*m.T46 + m.F47*m.T47 + m.F48*m.T48 == 17400 )\n",
    "m.con64 = Constraint(expr = m.A1*(((m.T3-m.T31)*(m.T5-m.T28)*(((m.T3-m.T31)+(m.T5-m.T28))/2))**(1/3)) == m.Q22)\n",
    "m.con65 = Constraint(expr = m.A2*(((m.T11-m.T32)*(m.T13-m.T29)*(((m.T11-m.T32)+(m.T13-m.T29))/2))**(1/3)) == m.Q32)\n",
    "m.con66 = Constraint(expr = m.A3*(((m.T19-m.T33)*(m.T21-m.T30)*(((m.T19-m.T33)+(m.T21-m.T30))/2))**(1/3)) == m.Q42)\n",
    "m.con67 = Constraint(expr = m.A4*(((m.T4-m.T46)*(m.T6-m.T43)*(((m.T4-m.T46)+(m.T6-m.T43))/2))**(1/3)) == m.Q2CW)\n",
    "m.con68 = Constraint(expr = m.A5*(((m.T12-m.T47)*(m.T14-m.T44)*(((m.T12-m.T47)+(m.T14-m.T44))/2))**(1/3)) == m.Q3CW)\n",
    "m.con69 = Constraint(expr = m.A6*(((m.T20-m.T48)*(m.T22-m.T45)*(((m.T20-m.T48)+(m.T22-m.T45))/2))**(1/3)) == m.Q4CW)\n",
    "m.con70 = Constraint(expr = m.T3 - m.T31 >= 20)\n",
    "m.con71 = Constraint(expr = m.T5 - m.T28 >= 20)\n",
    "m.con72 = Constraint(expr = m.T4 - m.T46 >= 20)\n",
    "m.con73 = Constraint(expr = m.T6 - m.T43 >= 20)\n",
    "m.con74 = Constraint(expr = m.T11 - m.T32 >= 20)\n",
    "m.con75 = Constraint(expr = m.T13 - m.T29 >= 20)\n",
    "m.con76 = Constraint(expr = m.T12 - m.T47 >= 20)\n",
    "m.con77 = Constraint(expr = m.T14 - m.T44 >= 20)\n",
    "m.con78 = Constraint(expr = m.T19 - m.T33 >= 20)\n",
    "m.con79 = Constraint(expr = m.T21 - m.T30 >= 20)\n",
    "m.con80 = Constraint(expr = m.T20 - m.T48 >=20)\n",
    "m.con81 = Constraint(expr = m.T22 - m.T45 >=20)\n",
    "m.con82 = Constraint(expr = m.T3 <= 360)\n",
    "m.con83 = Constraint(expr = m.T5 - 360 <= - (m.Q22/40))\n",
    "m.con84 = Constraint(expr = m.T4 <= 360)\n",
    "m.con85 = Constraint(expr = m.T6 - 360 <= - (m.Q2CW/40))\n",
    "m.con86 = Constraint(expr = m.T11 <= 360)\n",
    "m.con87 = Constraint(expr = m.T12 <= 360)\n",
    "m.con88 = Constraint(expr = m.T19 <= 360)\n",
    "m.con89 = Constraint(expr = m.T20 <= 360)\n",
    "m.con90 = Constraint(expr = m.T13 - 360 <= (-m.Q32/70))\n",
    "m.con91 = Constraint(expr = m.T14 - 360 <= (-m.Q3CW/70))\n",
    "m.con92 = Constraint(expr = m.T21 - 360 <= (-m.Q42/94))\n",
    "m.con93 = Constraint(expr = m.T22 - 360 <= (-m.Q4CW/94))\n",
    "m.con94 = Constraint(expr = m.T28 >= 300)\n",
    "m.con95 = Constraint(expr = m.T29 >= 300)\n",
    "m.con96 = Constraint(expr = m.T30 >= 300)\n",
    "m.con97 = Constraint(expr = m.T43 >= 300)\n",
    "m.con98 = Constraint(expr = m.T44 >= 290)\n",
    "m.con99 = Constraint(expr = m.T45 >= 290)\n",
    "m.con100 = Constraint(expr = m.T31 - 300 >= (m.Q22/180))\n",
    "m.con101 = Constraint(expr = m.T32 - 300 >= (m.Q32/180))\n",
    "m.con102 = Constraint(expr = m.T33 - 300 >= (m.Q42/180))\n",
    "m.con103 = Constraint(expr = m.T46 - 290 >= (m.Q2CW/60))\n",
    "m.con104 = Constraint(expr = m.T47 - 290 >= (m.Q3CW/60))\n",
    "m.con105 = Constraint(expr = m.T48 - 290 >= (m.Q4CW/60))"
   ]
  },
  {
   "cell_type": "code",
   "execution_count": null,
   "id": "b916e33c",
   "metadata": {},
   "outputs": [],
   "source": [
    "# Define objective function and solve using IPOPT solver \n",
    "m.obj = Objective(expr = 4000*((m.A1)**0.6)+4000*((m.A2)**0.6)+4000*((m.A3)**0.6)+4000*((m.A4)**0.6)+4000*((m.A5)**0.6)+4000*((m.A6)**0.6), sense=minimize)\n",
    "opt = SolverFactory('ipopt', executable = \"C:\\\\Users\\\\Dell\\\\anaconda3\\\\pkgs\\\\Ipopt-3.11.1-win64-intel13.1\\\\bin\\\\ipopt\")\n",
    "opt.solve(m, tee=True)"
   ]
  },
  {
   "cell_type": "code",
   "execution_count": null,
   "id": "9efd979b",
   "metadata": {},
   "outputs": [],
   "source": []
  }
 ],
 "metadata": {
  "kernelspec": {
   "display_name": "Python 3 (ipykernel)",
   "language": "python",
   "name": "python3"
  },
  "language_info": {
   "codemirror_mode": {
    "name": "ipython",
    "version": 3
   },
   "file_extension": ".py",
   "mimetype": "text/x-python",
   "name": "python",
   "nbconvert_exporter": "python",
   "pygments_lexer": "ipython3",
   "version": "3.8.16"
  }
 },
 "nbformat": 4,
 "nbformat_minor": 5
}
